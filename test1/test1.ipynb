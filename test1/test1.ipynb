{
 "cells": [
  {
   "cell_type": "markdown",
   "source": [
    "## Train"
   ],
   "metadata": {
    "collapsed": false
   },
   "id": "7e1cead45cfb09c5"
  },
  {
   "cell_type": "markdown",
   "source": [
    "### Install the necessary package"
   ],
   "metadata": {
    "collapsed": false
   },
   "id": "f3f65ac96cb08f26"
  },
  {
   "cell_type": "code",
   "outputs": [
    {
     "name": "stdout",
     "output_type": "stream",
     "text": [
      "Requirement already satisfied: torch in /opt/homebrew/Caskroom/miniconda/base/envs/PINNs/lib/python3.9/site-packages (2.2.0.post100)\r\n",
      "Requirement already satisfied: torchvision in /opt/homebrew/Caskroom/miniconda/base/envs/PINNs/lib/python3.9/site-packages (0.15.2a0)\r\n",
      "Requirement already satisfied: tqdm in /opt/homebrew/Caskroom/miniconda/base/envs/PINNs/lib/python3.9/site-packages (4.66.2)\r\n",
      "Requirement already satisfied: tensorboard in /opt/homebrew/Caskroom/miniconda/base/envs/PINNs/lib/python3.9/site-packages (2.16.2)\r\n",
      "Requirement already satisfied: numpy in /opt/homebrew/Caskroom/miniconda/base/envs/PINNs/lib/python3.9/site-packages (1.26.0)\r\n",
      "Requirement already satisfied: filelock in /opt/homebrew/Caskroom/miniconda/base/envs/PINNs/lib/python3.9/site-packages (from torch) (3.13.1)\r\n",
      "Requirement already satisfied: typing-extensions>=4.8.0 in /opt/homebrew/Caskroom/miniconda/base/envs/PINNs/lib/python3.9/site-packages (from torch) (4.9.0)\r\n",
      "Requirement already satisfied: sympy in /opt/homebrew/Caskroom/miniconda/base/envs/PINNs/lib/python3.9/site-packages (from torch) (1.12)\r\n",
      "Requirement already satisfied: networkx in /opt/homebrew/Caskroom/miniconda/base/envs/PINNs/lib/python3.9/site-packages (from torch) (3.1)\r\n",
      "Requirement already satisfied: jinja2 in /opt/homebrew/Caskroom/miniconda/base/envs/PINNs/lib/python3.9/site-packages (from torch) (3.1.3)\r\n",
      "Requirement already satisfied: fsspec in /opt/homebrew/Caskroom/miniconda/base/envs/PINNs/lib/python3.9/site-packages (from torch) (2023.10.0)\r\n",
      "Requirement already satisfied: requests in /opt/homebrew/Caskroom/miniconda/base/envs/PINNs/lib/python3.9/site-packages (from torchvision) (2.31.0)\r\n",
      "Requirement already satisfied: pillow!=8.3.*,>=5.3.0 in /opt/homebrew/Caskroom/miniconda/base/envs/PINNs/lib/python3.9/site-packages (from torchvision) (10.2.0)\r\n",
      "Requirement already satisfied: absl-py>=0.4 in /opt/homebrew/Caskroom/miniconda/base/envs/PINNs/lib/python3.9/site-packages (from tensorboard) (2.1.0)\r\n",
      "Requirement already satisfied: grpcio>=1.48.2 in /opt/homebrew/Caskroom/miniconda/base/envs/PINNs/lib/python3.9/site-packages (from tensorboard) (1.62.1)\r\n",
      "Requirement already satisfied: markdown>=2.6.8 in /opt/homebrew/Caskroom/miniconda/base/envs/PINNs/lib/python3.9/site-packages (from tensorboard) (3.6)\r\n",
      "Requirement already satisfied: protobuf!=4.24.0,>=3.19.6 in /opt/homebrew/Caskroom/miniconda/base/envs/PINNs/lib/python3.9/site-packages (from tensorboard) (4.25.3)\r\n",
      "Requirement already satisfied: setuptools>=41.0.0 in /opt/homebrew/Caskroom/miniconda/base/envs/PINNs/lib/python3.9/site-packages (from tensorboard) (68.2.2)\r\n",
      "Requirement already satisfied: six>1.9 in /opt/homebrew/Caskroom/miniconda/base/envs/PINNs/lib/python3.9/site-packages (from tensorboard) (1.16.0)\r\n",
      "Requirement already satisfied: tensorboard-data-server<0.8.0,>=0.7.0 in /opt/homebrew/Caskroom/miniconda/base/envs/PINNs/lib/python3.9/site-packages (from tensorboard) (0.7.2)\r\n",
      "Requirement already satisfied: werkzeug>=1.0.1 in /opt/homebrew/Caskroom/miniconda/base/envs/PINNs/lib/python3.9/site-packages (from tensorboard) (3.0.1)\r\n",
      "Requirement already satisfied: importlib-metadata>=4.4 in /opt/homebrew/Caskroom/miniconda/base/envs/PINNs/lib/python3.9/site-packages (from markdown>=2.6.8->tensorboard) (7.1.0)\r\n",
      "Requirement already satisfied: MarkupSafe>=2.1.1 in /opt/homebrew/Caskroom/miniconda/base/envs/PINNs/lib/python3.9/site-packages (from werkzeug>=1.0.1->tensorboard) (2.1.3)\r\n",
      "Requirement already satisfied: charset-normalizer<4,>=2 in /opt/homebrew/Caskroom/miniconda/base/envs/PINNs/lib/python3.9/site-packages (from requests->torchvision) (2.0.4)\r\n",
      "Requirement already satisfied: idna<4,>=2.5 in /opt/homebrew/Caskroom/miniconda/base/envs/PINNs/lib/python3.9/site-packages (from requests->torchvision) (3.4)\r\n",
      "Requirement already satisfied: urllib3<3,>=1.21.1 in /opt/homebrew/Caskroom/miniconda/base/envs/PINNs/lib/python3.9/site-packages (from requests->torchvision) (2.1.0)\r\n",
      "Requirement already satisfied: certifi>=2017.4.17 in /opt/homebrew/Caskroom/miniconda/base/envs/PINNs/lib/python3.9/site-packages (from requests->torchvision) (2024.2.2)\r\n",
      "Requirement already satisfied: mpmath>=0.19 in /opt/homebrew/Caskroom/miniconda/base/envs/PINNs/lib/python3.9/site-packages (from sympy->torch) (1.3.0)\r\n",
      "Requirement already satisfied: zipp>=0.5 in /opt/homebrew/Caskroom/miniconda/base/envs/PINNs/lib/python3.9/site-packages (from importlib-metadata>=4.4->markdown>=2.6.8->tensorboard) (3.18.1)\r\n"
     ]
    }
   ],
   "source": [
    "!pip install torch torchvision tqdm tensorboard numpy"
   ],
   "metadata": {
    "collapsed": false,
    "ExecuteTime": {
     "end_time": "2024-04-01T09:19:53.550068Z",
     "start_time": "2024-04-01T09:19:52.209553Z"
    }
   },
   "id": "c84cb9a839e52647",
   "execution_count": 9
  },
  {
   "cell_type": "markdown",
   "source": [
    "   ### Load the package"
   ],
   "metadata": {
    "collapsed": false
   },
   "id": "dccc255f8bc0d0a"
  },
  {
   "cell_type": "code",
   "outputs": [],
   "source": [
    "import os\n",
    "import math\n",
    "import torch\n",
    "\n",
    "\n",
    "from torch.utils.tensorboard import SummaryWriter\n",
    "from tqdm import tqdm"
   ],
   "metadata": {
    "collapsed": false,
    "ExecuteTime": {
     "end_time": "2024-04-01T12:42:46.542262Z",
     "start_time": "2024-04-01T12:42:41.367020Z"
    }
   },
   "id": "a51fee8a344fd651",
   "execution_count": 1
  },
  {
   "cell_type": "markdown",
   "source": [
    "### Config for training time"
   ],
   "metadata": {
    "collapsed": false
   },
   "id": "4ae97c8ea74f5d3a"
  },
  {
   "cell_type": "code",
   "execution_count": 2,
   "id": "initial_id",
   "metadata": {
    "collapsed": true,
    "ExecuteTime": {
     "end_time": "2024-04-01T12:42:46.583237Z",
     "start_time": "2024-04-01T12:42:46.543686Z"
    }
   },
   "outputs": [],
   "source": [
    "device = 'cuda' if torch.cuda.is_available() else 'mps' if torch.backends.mps.is_available() else 'cpu'\n",
    "\n",
    "# configration of the model\n",
    "config = {\n",
    "    'seed': 5201314,      # Your seed number, you can pick your lucky number. :)\n",
    "    'select_all': True,   # Whether to use all features.\n",
    "    'valid_ratio': 0.2,   # validation_size = train_size * valid_ratio\n",
    "    'n_epochs': 300,     # Number of epochs.\n",
    "    'n_classes': 3,\n",
    "    'train_root':  './dataset/train/',\n",
    "    'valild_root': './dataset/val/',\n",
    "    'base_channels': 3,\n",
    "    'input_channels': 1,\n",
    "    'input_shape': (1, 1, 150, 150),\n",
    "    'depth': 4,\n",
    "    'batch_size': 128,\n",
    "    'learning_rate': 1e-3,\n",
    "    'early_stop': 400,    # If model has not improved for this many consecutive epochs, stop training.\n",
    "    'save_path': './models/model.ckpt'  # Your model will be saved here.\n",
    "}"
   ]
  },
  {
   "cell_type": "markdown",
   "source": [
    "### Define the model and Dataset"
   ],
   "metadata": {
    "collapsed": false
   },
   "id": "f4dd8c53cdfef5da"
  },
  {
   "cell_type": "markdown",
   "source": [
    "#### Define the model net"
   ],
   "metadata": {
    "collapsed": false
   },
   "id": "d440288f1f78201b"
  },
  {
   "cell_type": "code",
   "outputs": [],
   "source": [
    "import torch\n",
    "import torch.nn as nn\n",
    "import torch.nn.functional as F\n",
    "\n",
    "# model\n",
    "\n",
    "class BasicBlock(nn.Module):\n",
    "    def __init__(self, in_channels, out_channels):\n",
    "        super(BasicBlock, self).__init__()\n",
    "        self.conv1 = nn.Conv2d(in_channels, out_channels, 3, bias=False, padding='same')\n",
    "        self.bn1 = nn.BatchNorm2d(out_channels)\n",
    "        self.conv2 = nn.Conv2d(out_channels, out_channels, 3, bias=False, padding='same')\n",
    "        self.bn2 = nn.BatchNorm2d(out_channels)\n",
    "\n",
    "        self.shortcut = nn.Sequential()\n",
    "        if in_channels != out_channels:\n",
    "            self.shortcut.add_module('conv', nn.Conv2d(in_channels, out_channels, 1, bias=False, padding='same'))\n",
    "            self.shortcut.add_module('bn', nn.BatchNorm2d(out_channels))\n",
    "\n",
    "\n",
    "    def forward(self, x):\n",
    "        y = F.relu(self.bn1(self.conv1(x)), inplace=True)\n",
    "        y = F.relu(self.bn2(self.conv2(y)), inplace=True)\n",
    "        y = y + self.shortcut(x)\n",
    "        y = F.relu(y, inplace=True)\n",
    "        return y\n",
    "\n",
    "\n",
    "class EPNet(nn.Module):\n",
    "    def __init__(self, config):\n",
    "        super(EPNet, self).__init__()\n",
    "        shape = config['input_shape']\n",
    "        input_channel = config['input_channels']\n",
    "        self.conv = nn.Conv2d(input_channel, 4, 5, padding='same')\n",
    "        self.stage1 = BasicBlock(4, 8)\n",
    "        self.stage2 = BasicBlock(8, 24)\n",
    "        self.stage3 = BasicBlock(24, 32)\n",
    "        self.stage4 = BasicBlock(32, 64)\n",
    "        with torch.no_grad():\n",
    "            self.feature = self._forward_test(torch.zeros(shape)).view(-1).shape[0]\n",
    "\n",
    "        self.fc = nn.Sequential(\n",
    "            nn.Flatten(),\n",
    "            nn.Linear(self.feature, config['n_classes']),\n",
    "            nn.Sigmoid()\n",
    "        )\n",
    "\n",
    "    def _forward_test(self, x):\n",
    "        x = self.conv(x)\n",
    "        x = self.stage1(x)\n",
    "        x = self.stage2(x)\n",
    "        x = self.stage3(x)\n",
    "        x = self.stage4(x)\n",
    "\n",
    "        x = F.adaptive_avg_pool2d(x, output_size=1)\n",
    "        # print(\"average pool:\", x.shape)\n",
    "        return x\n",
    "\n",
    "    def forward(self, x):\n",
    "        x = self._forward_test(x)\n",
    "        # x = x.view(x.size(0), -1)\n",
    "        x = self.fc(x)\n",
    "        return x\n",
    "\n",
    "\n"
   ],
   "metadata": {
    "collapsed": false,
    "ExecuteTime": {
     "end_time": "2024-04-01T12:42:46.590904Z",
     "start_time": "2024-04-01T12:42:46.584855Z"
    }
   },
   "id": "19f833b336375fe9",
   "execution_count": 3
  },
  {
   "cell_type": "markdown",
   "source": [
    "#### Define dataloader"
   ],
   "metadata": {
    "collapsed": false
   },
   "id": "d600258aeb2a29e3"
  },
  {
   "cell_type": "code",
   "outputs": [],
   "source": [
    "import numpy as np\n",
    "from torch.utils.data import Dataset\n",
    "\n",
    "class ImageDataset(Dataset):\n",
    "\n",
    "    def __init__(self,\n",
    "                 root: str,\n",
    "                 # istrain: bool,\n",
    "                 # data_size: int,\n",
    "                 return_index: bool = False):\n",
    "        # notice that:\n",
    "        # sub_data_size mean sub-image's width and height.\n",
    "        \"\"\" basic information \"\"\"\n",
    "        self.root = root\n",
    "        # self.data_size = data_size\n",
    "        self.return_index = return_index\n",
    "\n",
    "        \"\"\" read all data information \"\"\"\n",
    "        self.data_infos = self.getDataInfo(root)\n",
    "        # print(self.data_infos)\n",
    "\n",
    "\n",
    "    def getDataInfo(self, root):\n",
    "        data_infos = []\n",
    "        folders = os.listdir(root)\n",
    "        folders.sort() # sort by alphabet\n",
    "        # print(\"[dataset] class number:\", len(folders))\n",
    "        eye = np.eye(len(folders), dtype=np.float32)\n",
    "        for class_id, folder in enumerate(folders):\n",
    "            files = os.listdir(root+folder)\n",
    "            class_files = root + folder\n",
    "            for file in files:\n",
    "                data_path = class_files+\"/\"+file\n",
    "                data_infos.append({\"path\":data_path, \"label\":eye[class_id]})\n",
    "        return data_infos\n",
    "\n",
    "    def __len__(self):\n",
    "        return len(self.data_infos)\n",
    "\n",
    "    def __getitem__(self, index):\n",
    "        # get data information.\n",
    "        image_path = self.data_infos[index][\"path\"]\n",
    "        label = self.data_infos[index][\"label\"]\n",
    "\n",
    "        img = np.load(image_path).astype(np.float32)\n",
    "        \n",
    "        if self.return_index:\n",
    "            return index, img, label\n",
    "\n",
    "        return img, label\n"
   ],
   "metadata": {
    "collapsed": false,
    "ExecuteTime": {
     "end_time": "2024-04-01T12:42:46.596900Z",
     "start_time": "2024-04-01T12:42:46.592436Z"
    }
   },
   "id": "fe651d4cbafc0427",
   "execution_count": 4
  },
  {
   "cell_type": "code",
   "outputs": [],
   "source": [
    "from torch.utils.data import DataLoader\n",
    "\n",
    "def build_loader(config):\n",
    "    train_set, train_loader = None, None\n",
    "    if config['train_root'] is not None:\n",
    "        train_set = ImageDataset(root=config['train_root'], return_index=False)\n",
    "        train_loader = DataLoader(train_set, shuffle=True, batch_size=config['batch_size'])\n",
    "\n",
    "    val_set, val_loader = None, None\n",
    "    if config['valild_root'] is not None:\n",
    "        val_set = ImageDataset(root=config['valild_root'], return_index=False)\n",
    "        val_loader = DataLoader(val_set, shuffle=True, batch_size=config['batch_size'])\n",
    "        # only give the number of batch size data\n",
    "\n",
    "    return train_loader, val_loader\n"
   ],
   "metadata": {
    "collapsed": false,
    "ExecuteTime": {
     "end_time": "2024-04-01T12:42:46.600645Z",
     "start_time": "2024-04-01T12:42:46.598049Z"
    }
   },
   "id": "7e415394b63f4a1d",
   "execution_count": 5
  },
  {
   "cell_type": "markdown",
   "source": [
    "### Define the training function"
   ],
   "metadata": {
    "collapsed": false
   },
   "id": "ca4db5de85883802"
  },
  {
   "cell_type": "code",
   "outputs": [],
   "source": [
    "# Train\n",
    "# model = test()\n",
    "def train(model, train_loader, valid_loader, config, device):\n",
    "    # ll = nn.MSELoss()\n",
    "    ll = nn.CrossEntropyLoss()\n",
    "\n",
    "    # optimizer = torch.optim.SGD(model.parameters(), lr=0.003, momentum=0.8)\n",
    "\n",
    "    optimizer = torch.optim.Adam(model.parameters(), lr=config['learning_rate'], weight_decay=1e-5)\n",
    "    lr_scheduler = torch.optim.lr_scheduler.CosineAnnealingLR(optimizer, T_max=300)\n",
    "\n",
    "    writer = SummaryWriter() # Writer of tensorboard.\n",
    "    if not os.path.isdir('./models'):\n",
    "        os.mkdir('./models')\n",
    "\n",
    "    n_epochs, best_loss, step, early_stop_count = config['n_epochs'], math.inf, 0, 0\n",
    "\n",
    "    for epoch in range(n_epochs):\n",
    "        model.train() # Set your model to train mode.\n",
    "        model.to(device)\n",
    "        loss_record = []\n",
    "\n",
    "        # tqdm is a package to visualize your training progress.\n",
    "        train_pbar = tqdm(train_loader, position=0, leave=True)\n",
    "\n",
    "        for x, y in train_pbar:\n",
    "            optimizer.zero_grad()               # Set gradient to zero.\n",
    "            x, y = x.to(device), y.to(device)   # Move your data to device.\n",
    "            pred = model(x)\n",
    "            loss = ll(pred, y)\n",
    "            # print(\"pred argmax:\", torch.sum(torch.argmax(pred, dim=1) == torch.argmax(y, dim=1)))\n",
    "\n",
    "            loss.backward()                     # Compute gradient(backpropagation).\n",
    "            optimizer.step()                    # Update parameters.\n",
    "\n",
    "            step += 1\n",
    "            loss_record.append(loss.detach().item())\n",
    "\n",
    "            # Display current epoch number and loss on tqdm progress bar.\n",
    "            train_pbar.set_description(f'Epoch [{epoch+1}/{n_epochs}]')\n",
    "            train_pbar.set_postfix({'loss': loss.detach().item(),\n",
    "                                    'lr':   optimizer.state_dict()['param_groups'][0]['lr']\n",
    "                                    })\n",
    "\n",
    "        mean_train_loss = sum(loss_record)/len(loss_record)\n",
    "\n",
    "        writer.add_scalar('Loss/train', mean_train_loss, step)\n",
    "        lr_scheduler.step()\n",
    "\n",
    "\n",
    "        #####################\n",
    "\n",
    "        # Valid\n",
    "\n",
    "        #####################\n",
    "        model.eval() # Set your model to evaluation mode.\n",
    "\n",
    "\n",
    "        right = []\n",
    "        loss_record = []\n",
    "        for x, y in valid_loader:\n",
    "\n",
    "            x, y = x.to(device), y.to(device)\n",
    "            with torch.no_grad():\n",
    "                pred = model(x)\n",
    "                # print(f'pred.shape = {pred.shape} y.shape = {y.shape}')\n",
    "                loss = ll(pred, y)\n",
    "            right.append(torch.sum(torch.argmax(pred, dim=1) == torch.argmax(y, dim=1)))\n",
    "\n",
    "            train_pbar.set_description(f'Epoch [{epoch+1}/{n_epochs}]')\n",
    "            train_pbar.set_postfix({'acc': right[-1]/config['batch_size']})\n",
    "\n",
    "\n",
    "            loss_record.append(loss.item())\n",
    "\n",
    "        mean_valid_acc = sum(right) / (len(right) * config['batch_size'])\n",
    "        mean_valid_loss = sum(loss_record)/len(loss_record)\n",
    "        print(f'Epoch [{epoch+1}/{n_epochs}]: Train loss: {mean_train_loss:.4f}, Valid loss: {mean_valid_loss:.4f}, Accary: {mean_valid_acc:4f}%')\n",
    "\n",
    "        writer.add_scalar('Acc/valid', mean_valid_acc, step)\n",
    "        writer.add_scalar('Loss/valid', mean_valid_loss, step)\n",
    "\n",
    "\n",
    "\n",
    "\n",
    "        if mean_valid_loss < best_loss:\n",
    "            best_loss = mean_valid_loss\n",
    "            torch.save(model.state_dict(), config['save_path']) # Save your best model\n",
    "            print('Saving model with loss {:.3f}...'.format(best_loss))\n",
    "            early_stop_count = 0\n",
    "        else:\n",
    "            early_stop_count += 1\n",
    "\n",
    "        if early_stop_count >= config['early_stop']:\n",
    "            print('\\nModel is not improving, so we halt the training session.')\n",
    "            return\n",
    "\n"
   ],
   "metadata": {
    "collapsed": false,
    "ExecuteTime": {
     "end_time": "2024-04-01T12:44:09.114031Z",
     "start_time": "2024-04-01T12:44:09.102985Z"
    }
   },
   "id": "5bb8fc3754b0a251",
   "execution_count": 11
  },
  {
   "cell_type": "markdown",
   "source": [
    "### Load dataset and init the model"
   ],
   "metadata": {
    "collapsed": false
   },
   "id": "5b9fe7aa10a34b06"
  },
  {
   "cell_type": "code",
   "outputs": [],
   "source": [
    "train_loader, valid_loader = build_loader(config)\n",
    "\n",
    "model = EPNet(config)"
   ],
   "metadata": {
    "collapsed": false,
    "ExecuteTime": {
     "end_time": "2024-04-01T12:42:47.080577Z",
     "start_time": "2024-04-01T12:42:46.610366Z"
    }
   },
   "id": "892139f50b44d991",
   "execution_count": 7
  },
  {
   "cell_type": "markdown",
   "source": [
    "### Training"
   ],
   "metadata": {
    "collapsed": false
   },
   "id": "fabf92b454c83210"
  },
  {
   "cell_type": "code",
   "outputs": [],
   "source": [
    "# TODO: I am trianing on the server 3090 24GB\n",
    "train(model, train_loader, valid_loader, config, device)"
   ],
   "metadata": {
    "collapsed": false
   },
   "id": "214f1a6a230a973f",
   "execution_count": null
  },
  {
   "cell_type": "markdown",
   "source": [
    "### Display the training loss and acc"
   ],
   "metadata": {
    "collapsed": false
   },
   "id": "b67299ecc92d8b95"
  },
  {
   "cell_type": "code",
   "outputs": [
    {
     "name": "stdout",
     "output_type": "stream",
     "text": [
      "\u001B[31mrun tendorboard.....\u001B[m\n"
     ]
    },
    {
     "data": {
      "text/plain": "<IPython.core.display.HTML object>",
      "text/html": "\n      <iframe id=\"tensorboard-frame-197ff999789e4867\" width=\"100%\" height=\"800\" frameborder=\"0\">\n      </iframe>\n      <script>\n        (function() {\n          const frame = document.getElementById(\"tensorboard-frame-197ff999789e4867\");\n          const url = new URL(\"/\", window.location);\n          const port = 6006;\n          if (port) {\n            url.port = port;\n          }\n          frame.src = url;\n        })();\n      </script>\n    "
     },
     "metadata": {},
     "output_type": "display_data"
    }
   ],
   "source": [
    "# TODO: you need load its cell to see the tensorboard\n",
    "print('\\x1b[31mrun tendorboard.....\\033[m')\n",
    "%reload_ext tensorboard\n",
    "%tensorboard --logdir=./best_runs/"
   ],
   "metadata": {
    "collapsed": false,
    "ExecuteTime": {
     "end_time": "2024-04-01T12:42:53.854381Z",
     "start_time": "2024-04-01T12:42:50.294853Z"
    }
   },
   "id": "5dbd61d5c2aaf106",
   "execution_count": 8
  },
  {
   "cell_type": "markdown",
   "source": [
    "## Valid with the best model"
   ],
   "metadata": {
    "collapsed": false
   },
   "id": "4adb4a910899784b"
  },
  {
   "cell_type": "code",
   "outputs": [
    {
     "data": {
      "text/plain": "<All keys matched successfully>"
     },
     "execution_count": 13,
     "metadata": {},
     "output_type": "execute_result"
    }
   ],
   "source": [
    "best_mol = EPNet(config)\n",
    "best_mol.load_state_dict(torch.load('./models/test1_best.ckpt', map_location='cpu'))"
   ],
   "metadata": {
    "collapsed": false,
    "ExecuteTime": {
     "end_time": "2024-04-01T12:44:31.627959Z",
     "start_time": "2024-04-01T12:44:31.337190Z"
    }
   },
   "id": "61c449bfdde1481c",
   "execution_count": 13
  },
  {
   "cell_type": "code",
   "outputs": [],
   "source": [
    "best_mol"
   ],
   "metadata": {
    "collapsed": false
   },
   "id": "b3bded495a3f19be",
   "execution_count": null
  },
  {
   "cell_type": "code",
   "outputs": [
    {
     "data": {
      "text/plain": "<Figure size 800x600 with 1 Axes>",
      "image/png": "[encoded data removed]"
     },
     "metadata": {},
     "output_type": "display_data"
    }
   ],
   "source": [
    "import matplotlib.pyplot as plt\n",
    "from sklearn.metrics import roc_curve, auc\n",
    "import torch\n",
    "\n",
    "\n",
    "# take the whole data(2500)\n",
    "config['n_epochs'] = 2500\n",
    "# Prepare for ROC-AUC curve\n",
    "train_loader, valid_loader = build_loader(config)\n",
    "\n",
    "images, y_label = 0, 0\n",
    "for i, (X, y) in enumerate(valid_loader):\n",
    "    if i == 0:\n",
    "        images = X.to('cpu')\n",
    "        y_label = y.to('cpu')\n",
    "    \n",
    "\n",
    "predict = best_mol(images).detach().cpu().numpy()\n",
    "\n",
    "fpr = dict()\n",
    "tpr = dict()\n",
    "roc_auc = dict()\n",
    "for i in range(3):\n",
    "    fpr[i], tpr[i], _ = roc_curve(y_label[:, i], predict[:, i])\n",
    "    roc_auc[i] = auc(fpr[i], tpr[i])\n",
    "\n",
    "plt.figure(figsize=(8, 6))\n",
    "for i, j in enumerate(['no substructure', 'subhalo substructure', 'vortex substructure']):\n",
    "    plt.plot(fpr[i], tpr[i], label='ROC curve (class {}) (AUC = {:.2f})'.format(j, roc_auc[i]))\n",
    "\n",
    "plt.plot([0, 1], [0, 1], linestyle='--', color='r', label='Random')\n",
    "plt.xlabel('False Positive Rate')\n",
    "plt.ylabel('True Positive Rate')\n",
    "plt.title('ROC Curve for Multiclass Classification')\n",
    "plt.legend()\n",
    "plt.grid()\n",
    "if 'img' not in os.listdir('./'):\n",
    "    os.mkdir('./img')\n",
    "plt.savefig('./img/test1_roc_curve.png')\n",
    "plt.show()"
   ],
   "metadata": {
    "collapsed": false,
    "ExecuteTime": {
     "end_time": "2024-04-01T12:45:24.302223Z",
     "start_time": "2024-04-01T12:45:15.465907Z"
    }
   },
   "id": "36426de5e7de41",
   "execution_count": 15
  },
  {
   "cell_type": "code",
   "outputs": [],
   "source": [],
   "metadata": {
    "collapsed": false
   },
   "id": "26f2c9feab9c2073"
  }
 ],
 "metadata": {
  "kernelspec": {
   "display_name": "Python 3",
   "language": "python",
   "name": "python3"
  },
  "language_info": {
   "codemirror_mode": {
    "name": "ipython",
    "version": 2
   },
   "file_extension": ".py",
   "mimetype": "text/x-python",
   "name": "python",
   "nbconvert_exporter": "python",
   "pygments_lexer": "ipython2",
   "version": "2.7.6"
  }
 },
 "nbformat": 4,
 "nbformat_minor": 5
}
